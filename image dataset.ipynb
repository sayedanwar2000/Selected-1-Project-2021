{
 "cells": [
  {
   "cell_type": "code",
   "execution_count": 1,
   "id": "38cb9b0f",
   "metadata": {},
   "outputs": [],
   "source": [
    "import numpy as np\n",
    "import cv2\n",
    "from tqdm import tqdm\n",
    "import os\n",
    "import matplotlib.pyplot as plt\n",
    "import random\n",
    "import keras\n",
    "import tensorflow as tf\n",
    "from keras.layers import Dense, Dropout,Flatten\n",
    "import pickle\n",
    "import numpy as np\n",
    "import pandas as pd\n",
    "import matplotlib.pyplot as plt\n",
    "import tensorflow as tf\n",
    "import os\n",
    "import cv2\n",
    "from sklearn.preprocessing import StandardScaler\n",
    "import matplotlib.pyplot as plt\n",
    "from sklearn.decomposition import PCA\n",
    "from sklearn.model_selection import train_test_split\n",
    "import keras"
   ]
  },
  {
   "cell_type": "code",
   "execution_count": 2,
   "id": "3f2bfd7c",
   "metadata": {},
   "outputs": [],
   "source": [
    "DATADIR = \"D:/level 3/project selected/Training/\"\n",
    "DATADIRT = \"D:/level 3/project selected/Validation/\"\n",
    "CATEGORIES = [\"female\", \"male\"]"
   ]
  },
  {
   "cell_type": "code",
   "execution_count": 3,
   "id": "ac95941d",
   "metadata": {},
   "outputs": [
    {
     "name": "stderr",
     "output_type": "stream",
     "text": [
      "  4%|▍         | 1000/23243 [00:00<00:07, 3082.84it/s]\n",
      "  5%|▌         | 1000/19784 [00:07<02:20, 133.42it/s]\n",
      "  3%|▎         | 200/5841 [00:01<00:38, 147.98it/s]\n",
      "  3%|▎         | 200/5808 [00:01<00:38, 144.81it/s]"
     ]
    },
    {
     "name": "stdout",
     "output_type": "stream",
     "text": [
      "2000\n",
      "400\n"
     ]
    },
    {
     "name": "stderr",
     "output_type": "stream",
     "text": [
      "\n"
     ]
    }
   ],
   "source": [
    "training_data = []\n",
    "testing_data = []\n",
    "IMG_SIZE = 50\n",
    "def create_training_data():\n",
    "    for category in CATEGORIES:  # do dogs and cats\n",
    "\n",
    "        path = os.path.join(DATADIR,category)  # create path to female and male\n",
    "        class_num = CATEGORIES.index(category)  # get the classification  (0 or a 1). 0=female 1=male\n",
    "        \n",
    "        a = 0\n",
    "        for img in tqdm(os.listdir(path)):  # iterate over each image per female and male\n",
    "            try:\n",
    "                if a == 1000:\n",
    "                    break\n",
    "                img_array = cv2.imread(os.path.join(path,img) ,cv2.IMREAD_GRAYSCALE)  # convert to array\n",
    "                new_array = cv2.resize(img_array, (IMG_SIZE, IMG_SIZE))  # resize to normalize data size\n",
    "                training_data.append([new_array, class_num])  # add this to our training_data\n",
    "                a += 1\n",
    "            except Exception as e:  # in the interest in keeping the output clean...\n",
    "                pass\n",
    "            #except OSError as e:\n",
    "            #    print(\"OSErrroBad img most likely\", e, os.path.join(path,img))\n",
    "            #except Exception as e:\n",
    "            #    print(\"general exception\", e, os.path.join(path,img))\n",
    "\n",
    "            \n",
    "def create_testing_data():\n",
    "    for category in CATEGORIES:  # do female and male\n",
    "\n",
    "        path = os.path.join(DATADIRT,category)  # create path to female and male\n",
    "        class_num = CATEGORIES.index(category)  # get the classification  (0 or a 1). 0=female 1=male\n",
    "        a = 0\n",
    "        for img in tqdm(os.listdir(path)):  # iterate over each image per female and male\n",
    "            try:\n",
    "                if a == 200:\n",
    "                    break\n",
    "                img_array = cv2.imread(os.path.join(path,img) ,cv2.IMREAD_GRAYSCALE)  # convert to array\n",
    "                new_array = cv2.resize(img_array, (IMG_SIZE, IMG_SIZE))  # resize to normalize data size\n",
    "                testing_data.append([new_array, class_num])  # add this to our training_data\n",
    "                a += 1 \n",
    "            except Exception as e:  # in the interest in keeping the output clean...\n",
    "                pass\n",
    "\n",
    "create_training_data()\n",
    "create_testing_data()\n",
    "\n",
    "print(len(training_data))\n",
    "print(len(testing_data))"
   ]
  },
  {
   "cell_type": "code",
   "execution_count": 4,
   "id": "469f3000",
   "metadata": {},
   "outputs": [],
   "source": [
    "import random\n",
    "\n",
    "random.shuffle(training_data)\n",
    "\n",
    "random.shuffle(testing_data)"
   ]
  },
  {
   "cell_type": "code",
   "execution_count": 5,
   "id": "2e0e557e",
   "metadata": {},
   "outputs": [
    {
     "name": "stdout",
     "output_type": "stream",
     "text": [
      "(2000, 50, 50, 1)\n",
      "(2000,)\n"
     ]
    }
   ],
   "source": [
    "X_train = []\n",
    "y_train = []\n",
    "\n",
    "X_test = []\n",
    "y_test = []\n",
    "\n",
    "for features,label in training_data:\n",
    "    X_train.append(features)\n",
    "    y_train.append(label)\n",
    "\n",
    "for features,label in training_data:\n",
    "    X_test.append(features)\n",
    "    y_test.append(label)\n",
    "\n",
    "X_train = np.array(X_test).reshape(-1, IMG_SIZE, IMG_SIZE, 1)\n",
    "y_train = np.array(y_train)\n",
    "\n",
    "X_test = np.array(X_test).reshape(-1, IMG_SIZE, IMG_SIZE, 1)\n",
    "y_test = np.array(y_test)\n",
    "print(X_train.shape)\n",
    "print(y_train.shape)"
   ]
  },
  {
   "cell_type": "code",
   "execution_count": 6,
   "id": "ba0eabf2",
   "metadata": {},
   "outputs": [],
   "source": [
    "X_train = np.array(X_train).reshape(-1, 2500 )\n",
    "X_test = np.array(X_test).reshape(-1, 2500 )\n"
   ]
  },
  {
   "cell_type": "code",
   "execution_count": 7,
   "id": "248d0424",
   "metadata": {},
   "outputs": [
    {
     "name": "stdout",
     "output_type": "stream",
     "text": [
      "(2000, 2500)\n",
      "(2000, 2500)\n"
     ]
    }
   ],
   "source": [
    "print(X_train.shape)\n",
    "print(X_train.shape)"
   ]
  },
  {
   "cell_type": "code",
   "execution_count": 8,
   "id": "9178fbbe",
   "metadata": {},
   "outputs": [],
   "source": [
    "X_train = (X_train - np.min(X_train)) / (np.max(X_train) - np.min(X_train))\n",
    "X_test = (X_test - np.min(X_test)) / (np.max(X_test) - np.min(X_test))"
   ]
  },
  {
   "cell_type": "code",
   "execution_count": 9,
   "id": "21e7af44",
   "metadata": {},
   "outputs": [],
   "source": [
    "pickle_out = open(\"X_train_image.pickle\",\"wb\")\n",
    "pickle.dump(X_train, pickle_out)\n",
    "pickle_out.close()\n",
    "\n",
    "pickle_out = open(\"y_train_image.pickle\",\"wb\")\n",
    "pickle.dump(y_train, pickle_out)\n",
    "pickle_out.close()\n",
    "\n",
    "\n",
    "\n",
    "pickle_out = open(\"X_test_image.pickle\",\"wb\")\n",
    "pickle.dump(X_test, pickle_out)\n",
    "pickle_out.close()\n",
    "\n",
    "pickle_out = open(\"y_test_image.pickle\",\"wb\")\n",
    "pickle.dump(y_test, pickle_out)\n",
    "pickle_out.close()"
   ]
  }
 ],
 "metadata": {
  "kernelspec": {
   "display_name": "Python 3",
   "language": "python",
   "name": "python3"
  },
  "language_info": {
   "codemirror_mode": {
    "name": "ipython",
    "version": 3
   },
   "file_extension": ".py",
   "mimetype": "text/x-python",
   "name": "python",
   "nbconvert_exporter": "python",
   "pygments_lexer": "ipython3",
   "version": "3.8.8"
  }
 },
 "nbformat": 4,
 "nbformat_minor": 5
}
